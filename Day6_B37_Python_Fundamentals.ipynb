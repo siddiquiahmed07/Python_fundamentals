{
 "cells": [
  {
   "cell_type": "code",
   "execution_count": null,
   "metadata": {},
   "outputs": [],
   "source": []
  },
  {
   "cell_type": "code",
   "execution_count": 2,
   "metadata": {},
   "outputs": [],
   "source": [
    "students = ['shafi','akshay','ibrahim','kavya','swetha','sumayya','venu','dinesh']"
   ]
  },
  {
   "cell_type": "code",
   "execution_count": 3,
   "metadata": {},
   "outputs": [
    {
     "name": "stdout",
     "output_type": "stream",
     "text": [
      "['shafi', 'akshay', 'ibrahim', 'kavya', 'swetha', 'sumayya', 'venu', 'dinesh']\n"
     ]
    }
   ],
   "source": [
    "print(students)"
   ]
  },
  {
   "cell_type": "code",
   "execution_count": 4,
   "metadata": {},
   "outputs": [
    {
     "data": {
      "text/plain": [
       "list"
      ]
     },
     "execution_count": 4,
     "metadata": {},
     "output_type": "execute_result"
    }
   ],
   "source": [
    "type(students)"
   ]
  },
  {
   "cell_type": "code",
   "execution_count": null,
   "metadata": {},
   "outputs": [],
   "source": [
    "# Req: Want to appreciate all students in above list"
   ]
  },
  {
   "cell_type": "code",
   "execution_count": 5,
   "metadata": {},
   "outputs": [
    {
     "name": "stdout",
     "output_type": "stream",
     "text": [
      "Keep up the good work,Shafi\n"
     ]
    }
   ],
   "source": [
    "print(f\"Keep up the good work,{students[0].title()}\")"
   ]
  },
  {
   "cell_type": "code",
   "execution_count": 7,
   "metadata": {},
   "outputs": [
    {
     "name": "stdout",
     "output_type": "stream",
     "text": [
      "keep up good work , IBRAHIM\n"
     ]
    }
   ],
   "source": [
    "print(f\"keep up good work , {students[2].upper()}\")"
   ]
  },
  {
   "cell_type": "code",
   "execution_count": 8,
   "metadata": {},
   "outputs": [],
   "source": [
    "### Introduction to For Loops   *** VERY IMP *****"
   ]
  },
  {
   "cell_type": "code",
   "execution_count": null,
   "metadata": {},
   "outputs": [],
   "source": [
    "#Syntax of For loops : "
   ]
  },
  {
   "cell_type": "code",
   "execution_count": 9,
   "metadata": {},
   "outputs": [
    {
     "ename": "NameError",
     "evalue": "name 'mainvair' is not defined",
     "output_type": "error",
     "traceback": [
      "\u001b[1;31m---------------------------------------------------------------------------\u001b[0m",
      "\u001b[1;31mNameError\u001b[0m                                 Traceback (most recent call last)",
      "\u001b[1;32m<ipython-input-9-7d023c5677f7>\u001b[0m in \u001b[0;36m<module>\u001b[1;34m\u001b[0m\n\u001b[1;32m----> 1\u001b[1;33m \u001b[1;32mfor\u001b[0m \u001b[0mtempvar\u001b[0m \u001b[1;32min\u001b[0m \u001b[0mmainvair\u001b[0m\u001b[1;33m:\u001b[0m\u001b[1;33m\u001b[0m\u001b[1;33m\u001b[0m\u001b[0m\n\u001b[0m\u001b[0;32m      2\u001b[0m     \u001b[0mprint\u001b[0m\u001b[1;33m(\u001b[0m\u001b[0mtempvar\u001b[0m\u001b[1;33m)\u001b[0m\u001b[1;33m\u001b[0m\u001b[1;33m\u001b[0m\u001b[0m\n",
      "\u001b[1;31mNameError\u001b[0m: name 'mainvair' is not defined"
     ]
    }
   ],
   "source": [
    "for tempvar in mainvair:\n",
    "    print(tempvar)"
   ]
  },
  {
   "cell_type": "code",
   "execution_count": 10,
   "metadata": {},
   "outputs": [
    {
     "name": "stdout",
     "output_type": "stream",
     "text": [
      "keep up good work,Shafi\n",
      "keep up good work,Akshay\n",
      "keep up good work,Ibrahim\n",
      "keep up good work,Kavya\n",
      "keep up good work,Swetha\n",
      "keep up good work,Sumayya\n",
      "keep up good work,Venu\n",
      "keep up good work,Dinesh\n"
     ]
    }
   ],
   "source": [
    "for x in students:\n",
    "    print(f\"keep up good work,{x.title()}\")"
   ]
  },
  {
   "cell_type": "code",
   "execution_count": 12,
   "metadata": {},
   "outputs": [
    {
     "name": "stdout",
     "output_type": "stream",
     "text": [
      "keep up good work, Shafi\n",
      "keep up good work, Akshay\n",
      "keep up good work, Ibrahim\n",
      "keep up good work, Kavya\n",
      "keep up good work, Swetha\n",
      "keep up good work, Sumayya\n",
      "keep up good work, Venu\n",
      "keep up good work, Dinesh\n"
     ]
    }
   ],
   "source": [
    "for a in students:\n",
    "    print(f\"keep up good work, {a.title()}\")"
   ]
  },
  {
   "cell_type": "code",
   "execution_count": null,
   "metadata": {},
   "outputs": [],
   "source": [
    "# Code Enhancement \n",
    "\n",
    "# I also want to let them know that i am looking for practice file of today."
   ]
  },
  {
   "cell_type": "code",
   "execution_count": 13,
   "metadata": {},
   "outputs": [
    {
     "name": "stdout",
     "output_type": "stream",
     "text": [
      "keep up good work, Shafi\n",
      "i am looking forward to receive practice files, Shafi\n",
      "keep up good work, Akshay\n",
      "i am looking forward to receive practice files, Akshay\n",
      "keep up good work, Ibrahim\n",
      "i am looking forward to receive practice files, Ibrahim\n",
      "keep up good work, Kavya\n",
      "i am looking forward to receive practice files, Kavya\n",
      "keep up good work, Swetha\n",
      "i am looking forward to receive practice files, Swetha\n",
      "keep up good work, Sumayya\n",
      "i am looking forward to receive practice files, Sumayya\n",
      "keep up good work, Venu\n",
      "i am looking forward to receive practice files, Venu\n",
      "keep up good work, Dinesh\n",
      "i am looking forward to receive practice files, Dinesh\n"
     ]
    }
   ],
   "source": [
    "for a in students:\n",
    "    print(f\"keep up good work, {a.title()}\")\n",
    "    print(f\"i am looking forward to receive practice files, {a.title()}\")"
   ]
  },
  {
   "cell_type": "code",
   "execution_count": 14,
   "metadata": {},
   "outputs": [
    {
     "name": "stdout",
     "output_type": "stream",
     "text": [
      "keep up good work, Shafi\n",
      "i am looking forward to receive practice files, Shafi.\n",
      "\n",
      "keep up good work, Akshay\n",
      "i am looking forward to receive practice files, Akshay.\n",
      "\n",
      "keep up good work, Ibrahim\n",
      "i am looking forward to receive practice files, Ibrahim.\n",
      "\n",
      "keep up good work, Kavya\n",
      "i am looking forward to receive practice files, Kavya.\n",
      "\n",
      "keep up good work, Swetha\n",
      "i am looking forward to receive practice files, Swetha.\n",
      "\n",
      "keep up good work, Sumayya\n",
      "i am looking forward to receive practice files, Sumayya.\n",
      "\n",
      "keep up good work, Venu\n",
      "i am looking forward to receive practice files, Venu.\n",
      "\n",
      "keep up good work, Dinesh\n",
      "i am looking forward to receive practice files, Dinesh.\n",
      "\n"
     ]
    }
   ],
   "source": [
    "for a in students:\n",
    "    print(f\"keep up good work, {a.title()}\")\n",
    "    print(f\"i am looking forward to receive practice files, {a.title()}.\\n\")"
   ]
  },
  {
   "cell_type": "code",
   "execution_count": 16,
   "metadata": {},
   "outputs": [
    {
     "name": "stdout",
     "output_type": "stream",
     "text": [
      "keep up good work, Shafi\n",
      "i am looking forward to receive practice files, Shafi.\t\n",
      "keep up good work, Akshay\n",
      "i am looking forward to receive practice files, Akshay.\t\n",
      "keep up good work, Ibrahim\n",
      "i am looking forward to receive practice files, Ibrahim.\t\n",
      "keep up good work, Kavya\n",
      "i am looking forward to receive practice files, Kavya.\t\n",
      "keep up good work, Swetha\n",
      "i am looking forward to receive practice files, Swetha.\t\n",
      "keep up good work, Sumayya\n",
      "i am looking forward to receive practice files, Sumayya.\t\n",
      "keep up good work, Venu\n",
      "i am looking forward to receive practice files, Venu.\t\n",
      "keep up good work, Dinesh\n",
      "i am looking forward to receive practice files, Dinesh.\t\n"
     ]
    }
   ],
   "source": [
    "# The gap on left side is indentation\n",
    "for a in students:\n",
    "    print(f\"keep up good work, {a.title()}\")\n",
    "    print(f\"i am looking forward to receive practice files, {a.title()}.\\t\")"
   ]
  },
  {
   "cell_type": "code",
   "execution_count": 17,
   "metadata": {},
   "outputs": [
    {
     "ename": "IndentationError",
     "evalue": "expected an indented block (<ipython-input-17-ba966c8bb188>, line 2)",
     "output_type": "error",
     "traceback": [
      "\u001b[1;36m  File \u001b[1;32m\"<ipython-input-17-ba966c8bb188>\"\u001b[1;36m, line \u001b[1;32m2\u001b[0m\n\u001b[1;33m    print(f\"keep up good work, {a.title()}\")\u001b[0m\n\u001b[1;37m    ^\u001b[0m\n\u001b[1;31mIndentationError\u001b[0m\u001b[1;31m:\u001b[0m expected an indented block\n"
     ]
    }
   ],
   "source": [
    "for a in students:\n",
    "print(f\"keep up good work, {a.title()}\")\n",
    "    print(f\"i am looking forward to receive practice files, {a.title()}.\\t\")"
   ]
  },
  {
   "cell_type": "code",
   "execution_count": null,
   "metadata": {},
   "outputs": [],
   "source": [
    "for a in students:\n",
    "    print(f\"keep up good work, {a.title()}\")\n",
    "    print(f\"i am looking forward to receive practice files, {a.title()}.\\t\")"
   ]
  },
  {
   "cell_type": "code",
   "execution_count": 18,
   "metadata": {},
   "outputs": [],
   "source": [
    "# Writing in loop "
   ]
  },
  {
   "cell_type": "code",
   "execution_count": 19,
   "metadata": {},
   "outputs": [
    {
     "name": "stdout",
     "output_type": "stream",
     "text": [
      "keep up good work, Shafi\n",
      "i am looking forward to receive practice files, Shafi.\n",
      "\n",
      "keep up good work, Akshay\n",
      "i am looking forward to receive practice files, Akshay.\n",
      "\n",
      "keep up good work, Ibrahim\n",
      "i am looking forward to receive practice files, Ibrahim.\n",
      "\n",
      "keep up good work, Kavya\n",
      "i am looking forward to receive practice files, Kavya.\n",
      "\n",
      "keep up good work, Swetha\n",
      "i am looking forward to receive practice files, Swetha.\n",
      "\n",
      "keep up good work, Sumayya\n",
      "i am looking forward to receive practice files, Sumayya.\n",
      "\n",
      "keep up good work, Venu\n",
      "i am looking forward to receive practice files, Venu.\n",
      "\n",
      "keep up good work, Dinesh\n",
      "i am looking forward to receive practice files, Dinesh.\n",
      "\n",
      "Thanks all for showing interest in learning python\n"
     ]
    }
   ],
   "source": [
    "for a in students:\n",
    "    print(f\"keep up good work, {a.title()}\")\n",
    "    print(f\"i am looking forward to receive practice files, {a.title()}.\\n\")\n",
    "    \n",
    "print('Thanks all for showing interest in learning python')"
   ]
  },
  {
   "cell_type": "code",
   "execution_count": null,
   "metadata": {},
   "outputs": [],
   "source": []
  }
 ],
 "metadata": {
  "kernelspec": {
   "display_name": "Python 3",
   "language": "python",
   "name": "python3"
  },
  "language_info": {
   "codemirror_mode": {
    "name": "ipython",
    "version": 3
   },
   "file_extension": ".py",
   "mimetype": "text/x-python",
   "name": "python",
   "nbconvert_exporter": "python",
   "pygments_lexer": "ipython3",
   "version": "3.8.5"
  }
 },
 "nbformat": 4,
 "nbformat_minor": 4
}
