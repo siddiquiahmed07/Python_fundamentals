{
 "cells": [
  {
   "cell_type": "code",
   "execution_count": null,
   "metadata": {},
   "outputs": [],
   "source": [
    "Continuation to strings : \n",
    "    "
   ]
  },
  {
   "cell_type": "code",
   "execution_count": 2,
   "metadata": {},
   "outputs": [
    {
     "name": "stdout",
     "output_type": "stream",
     "text": [
      "amitabh bachchan\n"
     ]
    }
   ],
   "source": [
    "ful_name='amitabh bachchan'\n",
    "print(ful_name)"
   ]
  },
  {
   "cell_type": "code",
   "execution_count": 3,
   "metadata": {},
   "outputs": [
    {
     "name": "stdout",
     "output_type": "stream",
     "text": [
      "Amitabh Bachchan\n"
     ]
    }
   ],
   "source": [
    "print(ful_name.title())"
   ]
  },
  {
   "cell_type": "code",
   "execution_count": 4,
   "metadata": {},
   "outputs": [],
   "source": [
    "full_name='rajesh khnna' # make this name as full in caps "
   ]
  },
  {
   "cell_type": "code",
   "execution_count": 6,
   "metadata": {},
   "outputs": [
    {
     "name": "stdout",
     "output_type": "stream",
     "text": [
      "RAJESH KHNNA\n"
     ]
    }
   ],
   "source": [
    "print(full_name.upper())"
   ]
  },
  {
   "cell_type": "code",
   "execution_count": 7,
   "metadata": {},
   "outputs": [
    {
     "name": "stdout",
     "output_type": "stream",
     "text": [
      "rajani kant\n"
     ]
    }
   ],
   "source": [
    "fullname='RAJANI KANT' # make this name in all small letters\n",
    "print(fullname.lower())"
   ]
  },
  {
   "cell_type": "code",
   "execution_count": null,
   "metadata": {},
   "outputs": [],
   "source": [
    "Introduction to f string\n"
   ]
  },
  {
   "cell_type": "code",
   "execution_count": 18,
   "metadata": {},
   "outputs": [
    {
     "name": "stdout",
     "output_type": "stream",
     "text": [
      "Mohammed Siddiqui\n",
      "MOHAMMED SIDDIQUI\n",
      "mohammed siddiqui\n",
      "all the very best {'Mohammed Siddiqui'}\n",
      "all the very best, Mohammed Siddiqui\n"
     ]
    }
   ],
   "source": [
    "first_name='Mohammed'\n",
    "last_name='Siddiqui'\n",
    "# Req: Get full name \n",
    "\n",
    "# General Syntax of f string:\n",
    "# Formuila\n",
    "#f\"{placeholders1} {placeholder2}...{placeholdern}\"\n",
    "fullname=f\"{first_name} {last_name}\"\n",
    "print(fullname)\n",
    "print(fullname.upper())\n",
    "print(fullname.lower())\n",
    "\n",
    "print(f\"all the very best\", {fullname.title()})\n",
    "\n",
    "print(f\"all the very best, {fullname.title()}\")"
   ]
  },
  {
   "cell_type": "code",
   "execution_count": null,
   "metadata": {},
   "outputs": [],
   "source": [
    "# Formuila\n",
    "f\"{placeholders1} {placeholder2}...{placeholdern}\""
   ]
  },
  {
   "cell_type": "code",
   "execution_count": 9,
   "metadata": {},
   "outputs": [
    {
     "ename": "NameError",
     "evalue": "name 'first_name' is not defined",
     "output_type": "error",
     "traceback": [
      "\u001b[1;31m---------------------------------------------------------------------------\u001b[0m",
      "\u001b[1;31mNameError\u001b[0m                                 Traceback (most recent call last)",
      "\u001b[1;32m<ipython-input-9-97568293b5ad>\u001b[0m in \u001b[0;36m<module>\u001b[1;34m\u001b[0m\n\u001b[1;32m----> 1\u001b[1;33m \u001b[0mfullname\u001b[0m\u001b[1;33m=\u001b[0m\u001b[1;34mf\"{first_name} {last_name}\"\u001b[0m\u001b[1;33m\u001b[0m\u001b[1;33m\u001b[0m\u001b[0m\n\u001b[0m\u001b[0;32m      2\u001b[0m \u001b[0mprint\u001b[0m\u001b[1;33m(\u001b[0m\u001b[0mfullname\u001b[0m\u001b[1;33m)\u001b[0m\u001b[1;33m\u001b[0m\u001b[1;33m\u001b[0m\u001b[0m\n",
      "\u001b[1;31mNameError\u001b[0m: name 'first_name' is not defined"
     ]
    }
   ],
   "source": [
    "fullname=f\"{first_name} {last_name}\"\n",
    "print(fullname)"
   ]
  },
  {
   "cell_type": "code",
   "execution_count": null,
   "metadata": {},
   "outputs": [],
   "source": [
    "# Add white spaces to strings"
   ]
  },
  {
   "cell_type": "code",
   "execution_count": null,
   "metadata": {},
   "outputs": [],
   "source": [
    "# Req: collect fav prog language among group of students in college .. survey to conduct :"
   ]
  },
  {
   "cell_type": "code",
   "execution_count": 19,
   "metadata": {},
   "outputs": [
    {
     "name": "stdout",
     "output_type": "stream",
     "text": [
      "Fav prog language : Python ++javacjavascript\n"
     ]
    }
   ],
   "source": [
    "print('Fav prog language : Python ++javacjavascript')"
   ]
  },
  {
   "cell_type": "code",
   "execution_count": 20,
   "metadata": {},
   "outputs": [
    {
     "name": "stdout",
     "output_type": "stream",
     "text": [
      "Fav prog language : \n",
      "Python\n",
      "c ++\n",
      "java\n",
      "c\n",
      "javascript\n"
     ]
    }
   ],
   "source": [
    "print('Fav prog language : \\nPython\\nc ++\\njava\\nc\\njavascript')  #\\n : New line delimiter"
   ]
  },
  {
   "cell_type": "code",
   "execution_count": 21,
   "metadata": {},
   "outputs": [
    {
     "name": "stdout",
     "output_type": "stream",
     "text": [
      "Fav prog language : \n",
      "\tPython\n",
      "\tc ++\n",
      "\tjava\n",
      "\tc\n",
      "\tjavascript\n",
      "Fav prog language : \n",
      "Python\n",
      "c ++\n",
      "java\n",
      "c\n",
      "javascript\n"
     ]
    }
   ],
   "source": [
    "print('Fav prog language : \\n\\tPython\\n\\tc ++\\n\\tjava\\n\\tc\\n\\tjavascript')# Added tab delimuiter\n",
    "print('Fav prog language : \\nPython\\nc ++\\njava\\nc\\njavascript')"
   ]
  },
  {
   "cell_type": "code",
   "execution_count": null,
   "metadata": {},
   "outputs": [],
   "source": [
    "## Remove White spaces from String\n"
   ]
  },
  {
   "cell_type": "code",
   "execution_count": 22,
   "metadata": {},
   "outputs": [
    {
     "name": "stdout",
     "output_type": "stream",
     "text": [
      "  sid\n"
     ]
    }
   ],
   "source": [
    "### In this name , there are spaces in left side, which is named as white space,\n",
    "#it should be removed as these use occupies lot of storage capacity, which is a performance issue.\n",
    "name='  sid'  \n",
    "\n",
    "print(name)"
   ]
  },
  {
   "cell_type": "code",
   "execution_count": 23,
   "metadata": {},
   "outputs": [
    {
     "ename": "SyntaxError",
     "evalue": "invalid syntax (<ipython-input-23-38a1c0f4a2d2>, line 1)",
     "output_type": "error",
     "traceback": [
      "\u001b[1;36m  File \u001b[1;32m\"<ipython-input-23-38a1c0f4a2d2>\"\u001b[1;36m, line \u001b[1;32m1\u001b[0m\n\u001b[1;33m    1. lstrip --> will eliminate whitespaces on left side\u001b[0m\n\u001b[1;37m       ^\u001b[0m\n\u001b[1;31mSyntaxError\u001b[0m\u001b[1;31m:\u001b[0m invalid syntax\n"
     ]
    }
   ],
   "source": [
    "1. lstrip --> will eliminate whitespaces on left side\n",
    "2.rstrip--> will eliminate white spaces on right side\n",
    "3.strip--> will eliminate whitespaces on both sides"
   ]
  },
  {
   "cell_type": "code",
   "execution_count": 24,
   "metadata": {},
   "outputs": [
    {
     "name": "stdout",
     "output_type": "stream",
     "text": [
      "sid\n"
     ]
    }
   ],
   "source": [
    "print(name.lstrip())"
   ]
  },
  {
   "cell_type": "code",
   "execution_count": 25,
   "metadata": {},
   "outputs": [
    {
     "name": "stdout",
     "output_type": "stream",
     "text": [
      "anis\n"
     ]
    }
   ],
   "source": [
    "name2='anis    '\n",
    "print(name2.rstrip())"
   ]
  },
  {
   "cell_type": "code",
   "execution_count": 26,
   "metadata": {},
   "outputs": [
    {
     "name": "stdout",
     "output_type": "stream",
     "text": [
      "    news     \n",
      "news\n"
     ]
    }
   ],
   "source": [
    "name3='    news     '\n",
    "print(name3)\n",
    "print(name3.strip())"
   ]
  },
  {
   "cell_type": "code",
   "execution_count": null,
   "metadata": {},
   "outputs": [],
   "source": []
  }
 ],
 "metadata": {
  "kernelspec": {
   "display_name": "Python 3",
   "language": "python",
   "name": "python3"
  },
  "language_info": {
   "codemirror_mode": {
    "name": "ipython",
    "version": 3
   },
   "file_extension": ".py",
   "mimetype": "text/x-python",
   "name": "python",
   "nbconvert_exporter": "python",
   "pygments_lexer": "ipython3",
   "version": "3.8.5"
  }
 },
 "nbformat": 4,
 "nbformat_minor": 4
}
